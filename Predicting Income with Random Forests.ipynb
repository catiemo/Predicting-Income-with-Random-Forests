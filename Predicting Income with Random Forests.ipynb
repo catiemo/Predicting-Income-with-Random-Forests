{
 "cells": [
  {
   "cell_type": "markdown",
   "id": "7c105e57",
   "metadata": {},
   "source": [
    "### Importing Libraries"
   ]
  },
  {
   "cell_type": "code",
   "execution_count": 1,
   "id": "76a4f1aa",
   "metadata": {},
   "outputs": [],
   "source": [
    "def warn(*args, **kwargs):\n",
    "    pass\n",
    "import warnings\n",
    "warnings.warn = warn\n",
    "\n",
    "import numpy as np\n",
    "import pandas as pd\n",
    "from sklearn.model_selection import train_test_split\n",
    "from sklearn import tree\n",
    "from sklearn.ensemble import RandomForestClassifier"
   ]
  },
  {
   "cell_type": "markdown",
   "id": "b0b9d648",
   "metadata": {},
   "source": [
    "### Reading csv file"
   ]
  },
  {
   "cell_type": "code",
   "execution_count": 12,
   "id": "e28dc04b",
   "metadata": {},
   "outputs": [
    {
     "data": {
      "text/plain": [
       "age                          39\n",
       "workclass             State-gov\n",
       "fnlwgt                    77516\n",
       "education             Bachelors\n",
       "education-num                13\n",
       "marital-status    Never-married\n",
       "occupation         Adm-clerical\n",
       "relationship      Not-in-family\n",
       "race                      White\n",
       "sex                        Male\n",
       "capital-gain               2174\n",
       "capital-loss                  0\n",
       "hours-per-week               40\n",
       "native-country    United-States\n",
       "income                    <=50K\n",
       "Name: 0, dtype: object"
      ]
     },
     "execution_count": 12,
     "metadata": {},
     "output_type": "execute_result"
    }
   ],
   "source": [
    "income_data = pd.read_csv('income.csv', header = 0, delimiter = ', ')\n",
    "income_data.iloc[0]"
   ]
  },
  {
   "cell_type": "markdown",
   "id": "c3b94dde",
   "metadata": {},
   "source": [
    "### Changing Column Types"
   ]
  },
  {
   "cell_type": "code",
   "execution_count": 13,
   "id": "4ff27687",
   "metadata": {},
   "outputs": [
    {
     "data": {
      "text/plain": [
       "0    21790\n",
       "1    10771\n",
       "Name: sex-int, dtype: int64"
      ]
     },
     "execution_count": 13,
     "metadata": {},
     "output_type": "execute_result"
    }
   ],
   "source": [
    "# Changing the sex column to numeric by mapping Male to 0 and Female to 1\n",
    "income_data['sex-int'] = income_data['sex'].apply(lambda row: 0 if row == 'Male' else 1)\n",
    "income_data['sex-int'].value_counts()"
   ]
  },
  {
   "cell_type": "code",
   "execution_count": 5,
   "id": "88ebd4ad",
   "metadata": {},
   "outputs": [
    {
     "data": {
      "text/plain": [
       "United-States                 29170\n",
       "Mexico                          643\n",
       "?                               583\n",
       "Philippines                     198\n",
       "Germany                         137\n",
       "Canada                          121\n",
       "Puerto-Rico                     114\n",
       "El-Salvador                     106\n",
       "India                           100\n",
       "Cuba                             95\n",
       "England                          90\n",
       "Jamaica                          81\n",
       "South                            80\n",
       "China                            75\n",
       "Italy                            73\n",
       "Dominican-Republic               70\n",
       "Vietnam                          67\n",
       "Guatemala                        64\n",
       "Japan                            62\n",
       "Poland                           60\n",
       "Columbia                         59\n",
       "Taiwan                           51\n",
       "Haiti                            44\n",
       "Iran                             43\n",
       "Portugal                         37\n",
       "Nicaragua                        34\n",
       "Peru                             31\n",
       "Greece                           29\n",
       "France                           29\n",
       "Ecuador                          28\n",
       "Ireland                          24\n",
       "Hong                             20\n",
       "Cambodia                         19\n",
       "Trinadad&Tobago                  19\n",
       "Thailand                         18\n",
       "Laos                             18\n",
       "Yugoslavia                       16\n",
       "Outlying-US(Guam-USVI-etc)       14\n",
       "Hungary                          13\n",
       "Honduras                         13\n",
       "Scotland                         12\n",
       "Holand-Netherlands                1\n",
       "Name: native-country, dtype: int64"
      ]
     },
     "execution_count": 5,
     "metadata": {},
     "output_type": "execute_result"
    }
   ],
   "source": [
    "# Viewing enteries in native country\n",
    "income_data['native-country'].value_counts()"
   ]
  },
  {
   "cell_type": "code",
   "execution_count": 14,
   "id": "8e255671",
   "metadata": {},
   "outputs": [
    {
     "data": {
      "text/plain": [
       "1    29170\n",
       "0     3391\n",
       "Name: country-int, dtype: int64"
      ]
     },
     "execution_count": 14,
     "metadata": {},
     "output_type": "execute_result"
    }
   ],
   "source": [
    "# Changing the native-country column to numeric by mapping United States to 1 and any other country to 0\n",
    "income_data['country-int'] = np.where(income_data['native-country'] == 'United-States', 1, 0)\n",
    "income_data['country-int'].value_counts()"
   ]
  },
  {
   "cell_type": "markdown",
   "id": "2ba7cee1",
   "metadata": {},
   "source": [
    "### Selecting Features and Labels"
   ]
  },
  {
   "cell_type": "code",
   "execution_count": 7,
   "id": "a284d95a",
   "metadata": {},
   "outputs": [],
   "source": [
    "labels = income_data[['income']]\n",
    "data = income_data[['age', 'capital-gain', 'capital-loss', 'hours-per-week', 'sex-int', 'country-int']]"
   ]
  },
  {
   "cell_type": "markdown",
   "id": "16d05e3b",
   "metadata": {},
   "source": [
    "### Training and Validation Set"
   ]
  },
  {
   "cell_type": "code",
   "execution_count": 8,
   "id": "55e53928",
   "metadata": {},
   "outputs": [],
   "source": [
    "train_data, test_data, train_labels, test_labels = train_test_split(data, labels, random_state = 1)"
   ]
  },
  {
   "cell_type": "markdown",
   "id": "53ef2f91",
   "metadata": {},
   "source": [
    "### Create The Random Forest"
   ]
  },
  {
   "cell_type": "code",
   "execution_count": 9,
   "id": "738b5c61",
   "metadata": {},
   "outputs": [],
   "source": [
    "forest = RandomForestClassifier(random_state = 1)"
   ]
  },
  {
   "cell_type": "markdown",
   "id": "23cdbf2f",
   "metadata": {},
   "source": [
    "### Train the model"
   ]
  },
  {
   "cell_type": "code",
   "execution_count": 15,
   "id": "7092d6fd",
   "metadata": {},
   "outputs": [
    {
     "data": {
      "text/plain": [
       "RandomForestClassifier(random_state=1)"
      ]
     },
     "execution_count": 15,
     "metadata": {},
     "output_type": "execute_result"
    }
   ],
   "source": [
    "forest.fit(train_data, train_labels)"
   ]
  },
  {
   "cell_type": "markdown",
   "id": "79328ccb",
   "metadata": {},
   "source": [
    "### Test the model"
   ]
  },
  {
   "cell_type": "code",
   "execution_count": 16,
   "id": "3b9d8db9",
   "metadata": {},
   "outputs": [
    {
     "name": "stdout",
     "output_type": "stream",
     "text": [
      "0.823731728288908\n"
     ]
    }
   ],
   "source": [
    "print(forest.score(test_data, test_labels))"
   ]
  }
 ],
 "metadata": {
  "kernelspec": {
   "display_name": "Python 3",
   "language": "python",
   "name": "python3"
  },
  "language_info": {
   "codemirror_mode": {
    "name": "ipython",
    "version": 3
   },
   "file_extension": ".py",
   "mimetype": "text/x-python",
   "name": "python",
   "nbconvert_exporter": "python",
   "pygments_lexer": "ipython3",
   "version": "3.8.8"
  }
 },
 "nbformat": 4,
 "nbformat_minor": 5
}
